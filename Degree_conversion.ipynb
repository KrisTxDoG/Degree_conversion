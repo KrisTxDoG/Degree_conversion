{
 "cells": [
  {
   "cell_type": "code",
   "execution_count": 8,
   "metadata": {},
   "outputs": [
    {
     "name": "stdout",
     "output_type": "stream",
     "text": [
      "請輸入年齡:53\n",
      "你可以投票\n"
     ]
    }
   ],
   "source": [
    "age = input('請輸入年齡:')\n",
    "age = int(age)\n",
    "\n",
    "if age >= 20:\n",
    "    print('你可以投票')\n",
    "    \n",
    "else:\n",
    "    print('你不可以投票')\n",
    "\n"
   ]
  },
  {
   "cell_type": "code",
   "execution_count": 14,
   "metadata": {},
   "outputs": [
    {
     "name": "stdout",
     "output_type": "stream",
     "text": [
      "輸入攝氏溫度:128\n",
      "華氏溫度為: 53.333333333333336\n"
     ]
    }
   ],
   "source": [
    "F_degree = input('輸入攝氏溫度:')\n",
    "\n",
    "F_degree = int(F_degree)\n",
    "\n",
    "C_degree = (F_degree - 32)* 5 / 9\n",
    "\n",
    "print('華氏溫度為:',C_degree)\n",
    "\n"
   ]
  },
  {
   "cell_type": "code",
   "execution_count": null,
   "metadata": {},
   "outputs": [],
   "source": []
  },
  {
   "cell_type": "code",
   "execution_count": null,
   "metadata": {},
   "outputs": [],
   "source": []
  }
 ],
 "metadata": {
  "kernelspec": {
   "display_name": "Python 3",
   "language": "python",
   "name": "python3"
  },
  "language_info": {
   "codemirror_mode": {
    "name": "ipython",
    "version": 3
   },
   "file_extension": ".py",
   "mimetype": "text/x-python",
   "name": "python",
   "nbconvert_exporter": "python",
   "pygments_lexer": "ipython3",
   "version": "3.8.3"
  }
 },
 "nbformat": 4,
 "nbformat_minor": 4
}
